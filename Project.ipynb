{
 "cells": [
  {
   "cell_type": "markdown",
   "metadata": {},
   "source": [
    "<div style=\"font-size: 50px;\">\n",
    "            A study of national suicide rates</br></br>\n",
    "            </div>"
   ]
  },
  {
   "cell_type": "code",
   "execution_count": 53,
   "metadata": {},
   "outputs": [],
   "source": [
    "import pandas as pd\n",
    "import numpy as np\n",
    "from sklearn import model_selection, linear_model, metrics, datasets, feature_selection\n",
    "from sklearn.preprocessing import LabelEncoder\n",
    "#from sklearn.metrics import mean_squared_error, r2_score\n",
    "\n",
    "import matplotlib.pyplot as plt\n",
    "%matplotlib inline"
   ]
  },
  {
   "cell_type": "code",
   "execution_count": 4,
   "metadata": {},
   "outputs": [],
   "source": [
    "suicide = pd.read_csv('data/master.csv')"
   ]
  },
  {
   "cell_type": "code",
   "execution_count": 45,
   "metadata": {},
   "outputs": [
    {
     "data": {
      "text/html": [
       "<div>\n",
       "<style scoped>\n",
       "    .dataframe tbody tr th:only-of-type {\n",
       "        vertical-align: middle;\n",
       "    }\n",
       "\n",
       "    .dataframe tbody tr th {\n",
       "        vertical-align: top;\n",
       "    }\n",
       "\n",
       "    .dataframe thead th {\n",
       "        text-align: right;\n",
       "    }\n",
       "</style>\n",
       "<table border=\"1\" class=\"dataframe\">\n",
       "  <thead>\n",
       "    <tr style=\"text-align: right;\">\n",
       "      <th></th>\n",
       "      <th>country</th>\n",
       "      <th>year</th>\n",
       "      <th>sex</th>\n",
       "      <th>age</th>\n",
       "      <th>population</th>\n",
       "      <th>suicides/100k pop</th>\n",
       "      <th>gdp_per_capita ($)</th>\n",
       "      <th>generation</th>\n",
       "    </tr>\n",
       "  </thead>\n",
       "  <tbody>\n",
       "    <tr>\n",
       "      <th>0</th>\n",
       "      <td>Albania</td>\n",
       "      <td>1987</td>\n",
       "      <td>male</td>\n",
       "      <td>15-24 years</td>\n",
       "      <td>312900</td>\n",
       "      <td>6.71</td>\n",
       "      <td>796</td>\n",
       "      <td>Generation X</td>\n",
       "    </tr>\n",
       "    <tr>\n",
       "      <th>1</th>\n",
       "      <td>Albania</td>\n",
       "      <td>1987</td>\n",
       "      <td>male</td>\n",
       "      <td>35-54 years</td>\n",
       "      <td>308000</td>\n",
       "      <td>5.19</td>\n",
       "      <td>796</td>\n",
       "      <td>Silent</td>\n",
       "    </tr>\n",
       "    <tr>\n",
       "      <th>2</th>\n",
       "      <td>Albania</td>\n",
       "      <td>1987</td>\n",
       "      <td>female</td>\n",
       "      <td>15-24 years</td>\n",
       "      <td>289700</td>\n",
       "      <td>4.83</td>\n",
       "      <td>796</td>\n",
       "      <td>Generation X</td>\n",
       "    </tr>\n",
       "    <tr>\n",
       "      <th>3</th>\n",
       "      <td>Albania</td>\n",
       "      <td>1987</td>\n",
       "      <td>male</td>\n",
       "      <td>75+ years</td>\n",
       "      <td>21800</td>\n",
       "      <td>4.59</td>\n",
       "      <td>796</td>\n",
       "      <td>G.I. Generation</td>\n",
       "    </tr>\n",
       "    <tr>\n",
       "      <th>4</th>\n",
       "      <td>Albania</td>\n",
       "      <td>1987</td>\n",
       "      <td>male</td>\n",
       "      <td>25-34 years</td>\n",
       "      <td>274300</td>\n",
       "      <td>3.28</td>\n",
       "      <td>796</td>\n",
       "      <td>Boomers</td>\n",
       "    </tr>\n",
       "  </tbody>\n",
       "</table>\n",
       "</div>"
      ],
      "text/plain": [
       "   country  year     sex          age  population  suicides/100k pop  \\\n",
       "0  Albania  1987    male  15-24 years      312900               6.71   \n",
       "1  Albania  1987    male  35-54 years      308000               5.19   \n",
       "2  Albania  1987  female  15-24 years      289700               4.83   \n",
       "3  Albania  1987    male    75+ years       21800               4.59   \n",
       "4  Albania  1987    male  25-34 years      274300               3.28   \n",
       "\n",
       "   gdp_per_capita ($)       generation  \n",
       "0                 796     Generation X  \n",
       "1                 796           Silent  \n",
       "2                 796     Generation X  \n",
       "3                 796  G.I. Generation  \n",
       "4                 796          Boomers  "
      ]
     },
     "execution_count": 45,
     "metadata": {},
     "output_type": "execute_result"
    }
   ],
   "source": [
    "suicide.head()"
   ]
  },
  {
   "cell_type": "markdown",
   "metadata": {},
   "source": [
    "<div style = \"font-size: 20pt; color: red\">\n",
    "\n",
    "extract valid columns\n",
    "\n",
    "</div >"
   ]
  },
  {
   "cell_type": "code",
   "execution_count": null,
   "metadata": {},
   "outputs": [],
   "source": [
    "\n",
    "included_col = ['country',\n",
    " 'year',\n",
    " 'sex',\n",
    " 'age',\n",
    " 'population',\n",
    " 'suicides/100k pop',\n",
    " 'gdp_per_capita ($)',\n",
    " 'generation']"
   ]
  },
  {
   "cell_type": "code",
   "execution_count": 7,
   "metadata": {},
   "outputs": [],
   "source": [
    "suicide = suicide[included_col]"
   ]
  },
  {
   "cell_type": "markdown",
   "metadata": {},
   "source": [
    "<div style = \"font-size: 20pt; color: red\">\n",
    "    \n",
    "pick out outliers. we assume suicide rates don't change drastically. we don't want to throw away too many data. arbitrarily narrow quantiles are implemented.\n",
    "    \n",
    "</div>"
   ]
  },
  {
   "cell_type": "code",
   "execution_count": 8,
   "metadata": {},
   "outputs": [
    {
     "data": {
      "text/plain": [
       "0.000    0.00\n",
       "0.005    0.00\n",
       "0.010    0.00\n",
       "0.020    0.00\n",
       "0.030    0.00\n",
       "0.040    0.00\n",
       "0.100    0.00\n",
       "0.120    0.00\n",
       "0.140    0.00\n",
       "0.150    0.00\n",
       "0.160    0.13\n",
       "0.180    0.29\n",
       "0.200    0.41\n",
       "Name: suicides/100k pop, dtype: float64"
      ]
     },
     "execution_count": 8,
     "metadata": {},
     "output_type": "execute_result"
    }
   ],
   "source": [
    "suicide['suicides/100k pop'].quantile([0, .005, .01, .02, .03, .04, .1, .12, .14, .15, .16, .18, .2])"
   ]
  },
  {
   "cell_type": "code",
   "execution_count": 9,
   "metadata": {},
   "outputs": [
    {
     "data": {
      "text/plain": [
       "0.90     33.2910\n",
       "0.91     35.4158\n",
       "0.92     38.1648\n",
       "0.93     41.1934\n",
       "0.94     44.9500\n",
       "0.95     50.5305\n",
       "0.96     57.0500\n",
       "0.97     66.2658\n",
       "0.98     77.7548\n",
       "0.99     91.5710\n",
       "1.00    224.9700\n",
       "Name: suicides/100k pop, dtype: float64"
      ]
     },
     "execution_count": 9,
     "metadata": {},
     "output_type": "execute_result"
    }
   ],
   "source": [
    "suicide['suicides/100k pop'].quantile([0.9, .91, .92, .93, .94, .95, .96, .97, .98, .99, 1])"
   ]
  },
  {
   "cell_type": "markdown",
   "metadata": {},
   "source": [
    "<div style = \"font-size: 20pt; color: red\">\n",
    "    \n",
    "*suicide_cleaned* is the data set with outliers removed.\n",
    "    \n",
    "</div>"
   ]
  },
  {
   "cell_type": "code",
   "execution_count": 10,
   "metadata": {},
   "outputs": [],
   "source": [
    "suicide_cleaned = suicide[(suicide['suicides/100k pop'] < 100)  & (suicide['suicides/100k pop'] > 0.1)]"
   ]
  },
  {
   "cell_type": "code",
   "execution_count": 11,
   "metadata": {},
   "outputs": [
    {
     "data": {
      "text/plain": [
       "array(['Generation X', 'Silent', 'G.I. Generation', 'Boomers',\n",
       "       'Millenials', 'Generation Z'], dtype=object)"
      ]
     },
     "execution_count": 11,
     "metadata": {},
     "output_type": "execute_result"
    }
   ],
   "source": [
    "suicide_cleaned['generation'].unique()"
   ]
  },
  {
   "cell_type": "markdown",
   "metadata": {},
   "source": [
    "#total suicide rates during 1985 - 2016 of nations. We find the highest and lowest suicide \n",
    "rate. Canda's standing is compared with the highest and lowest."
   ]
  },
  {
   "cell_type": "markdown",
   "metadata": {},
   "source": [
    "<div style = \"font-size: 20pt; color: red\">\n",
    "    \n",
    "find suicide rate suicides number per 100k. available data of each nation are not all as complete,\n",
    "    average of suicides number per 100k is taken. this means the age variance and year variance of suicide rate in a nation are zero. considering these data are only used to choose the nations of the highest and lowest suicide rate, this assumption is not a bad one.\n",
    "    \n",
    "</div>"
   ]
  },
  {
   "cell_type": "code",
   "execution_count": 129,
   "metadata": {},
   "outputs": [],
   "source": [
    "country_suicide = suicide_cleaned[['country', 'suicides/100k pop']].groupby('country').agg(sum)\n",
    "country_entries = suicide_cleaned[['country', 'suicides/100k pop']].groupby('country').agg(len)\n",
    "country_entries.columns = ['entry number']\n",
    "country_suicide_joined = pd.merge(country_suicide, country_entries, how='right', on = 'country')\n",
    "country_suicide_joined['average suicide'] = country_suicide_joined['suicides/100k pop']/country_suicide_joined['entry number']\n",
    "country_suicide_joined['order'] = range(len(country_suicide_joined))"
   ]
  },
  {
   "cell_type": "code",
   "execution_count": 44,
   "metadata": {},
   "outputs": [
    {
     "data": {
      "text/html": [
       "<div>\n",
       "<style scoped>\n",
       "    .dataframe tbody tr th:only-of-type {\n",
       "        vertical-align: middle;\n",
       "    }\n",
       "\n",
       "    .dataframe tbody tr th {\n",
       "        vertical-align: top;\n",
       "    }\n",
       "\n",
       "    .dataframe thead th {\n",
       "        text-align: right;\n",
       "    }\n",
       "</style>\n",
       "<table border=\"1\" class=\"dataframe\">\n",
       "  <thead>\n",
       "    <tr style=\"text-align: right;\">\n",
       "      <th></th>\n",
       "      <th>suicides/100k pop</th>\n",
       "      <th>entry number</th>\n",
       "      <th>average suicide</th>\n",
       "      <th>order</th>\n",
       "    </tr>\n",
       "    <tr>\n",
       "      <th>country</th>\n",
       "      <th></th>\n",
       "      <th></th>\n",
       "      <th></th>\n",
       "      <th></th>\n",
       "    </tr>\n",
       "  </thead>\n",
       "  <tbody>\n",
       "    <tr>\n",
       "      <th>Albania</th>\n",
       "      <td>924.76</td>\n",
       "      <td>206.0</td>\n",
       "      <td>4.489126</td>\n",
       "      <td>0</td>\n",
       "    </tr>\n",
       "    <tr>\n",
       "      <th>Antigua and Barbuda</th>\n",
       "      <td>179.14</td>\n",
       "      <td>10.0</td>\n",
       "      <td>17.914000</td>\n",
       "      <td>1</td>\n",
       "    </tr>\n",
       "    <tr>\n",
       "      <th>Argentina</th>\n",
       "      <td>3894.59</td>\n",
       "      <td>372.0</td>\n",
       "      <td>10.469328</td>\n",
       "      <td>2</td>\n",
       "    </tr>\n",
       "    <tr>\n",
       "      <th>Armenia</th>\n",
       "      <td>976.21</td>\n",
       "      <td>252.0</td>\n",
       "      <td>3.873849</td>\n",
       "      <td>3</td>\n",
       "    </tr>\n",
       "    <tr>\n",
       "      <th>Aruba</th>\n",
       "      <td>1137.02</td>\n",
       "      <td>49.0</td>\n",
       "      <td>23.204490</td>\n",
       "      <td>4</td>\n",
       "    </tr>\n",
       "    <tr>\n",
       "      <th>Australia</th>\n",
       "      <td>4676.77</td>\n",
       "      <td>349.0</td>\n",
       "      <td>13.400487</td>\n",
       "      <td>5</td>\n",
       "    </tr>\n",
       "    <tr>\n",
       "      <th>Austria</th>\n",
       "      <td>7660.98</td>\n",
       "      <td>361.0</td>\n",
       "      <td>21.221551</td>\n",
       "      <td>6</td>\n",
       "    </tr>\n",
       "    <tr>\n",
       "      <th>Azerbaijan</th>\n",
       "      <td>356.24</td>\n",
       "      <td>165.0</td>\n",
       "      <td>2.159030</td>\n",
       "      <td>7</td>\n",
       "    </tr>\n",
       "    <tr>\n",
       "      <th>Bahamas</th>\n",
       "      <td>344.28</td>\n",
       "      <td>65.0</td>\n",
       "      <td>5.296615</td>\n",
       "      <td>8</td>\n",
       "    </tr>\n",
       "    <tr>\n",
       "      <th>Bahrain</th>\n",
       "      <td>467.24</td>\n",
       "      <td>106.0</td>\n",
       "      <td>4.407925</td>\n",
       "      <td>9</td>\n",
       "    </tr>\n",
       "  </tbody>\n",
       "</table>\n",
       "</div>"
      ],
      "text/plain": [
       "                     suicides/100k pop  entry number  average suicide  order\n",
       "country                                                                     \n",
       "Albania                         924.76         206.0         4.489126      0\n",
       "Antigua and Barbuda             179.14          10.0        17.914000      1\n",
       "Argentina                      3894.59         372.0        10.469328      2\n",
       "Armenia                         976.21         252.0         3.873849      3\n",
       "Aruba                          1137.02          49.0        23.204490      4\n",
       "Australia                      4676.77         349.0        13.400487      5\n",
       "Austria                        7660.98         361.0        21.221551      6\n",
       "Azerbaijan                      356.24         165.0         2.159030      7\n",
       "Bahamas                         344.28          65.0         5.296615      8\n",
       "Bahrain                         467.24         106.0         4.407925      9"
      ]
     },
     "execution_count": 44,
     "metadata": {},
     "output_type": "execute_result"
    }
   ],
   "source": [
    "country_suicide_joined.head(10)"
   ]
  },
  {
   "cell_type": "markdown",
   "metadata": {},
   "source": [
    "<div style=\"font-size: 20px; color: red\">\n",
    "total suicide population per 100k of each country. a country is represented by its order number \n",
    "in the alphabatically ordered country list.\n",
    "</div>"
   ]
  },
  {
   "cell_type": "code",
   "execution_count": 14,
   "metadata": {},
   "outputs": [
    {
     "data": {
      "image/png": "[encoded data removed]",
      "text/plain": [
       "<Figure size 432x288 with 1 Axes>"
      ]
     },
     "metadata": {
      "needs_background": "light"
     },
     "output_type": "display_data"
    }
   ],
   "source": [
    "plt.scatter(country_suicide_joined['order'], country_suicide_joined['suicides/100k pop'])\n",
    "\n",
    "plt.xlabel('Countries')\n",
    "plt.ylabel('Total suicides')\n",
    "plt.show()\n",
    "           "
   ]
  },
  {
   "cell_type": "markdown",
   "metadata": {},
   "source": [
    "<div style=\"font-size: 20px; color: red\">\n",
    "the data set doesn't have same complete entries of all nations. entry numbers are shown in the below plot. to make fair comparison, average of suicide population against entry number is taken. as shown in the next plot.\n",
    "</div>"
   ]
  },
  {
   "cell_type": "code",
   "execution_count": 15,
   "metadata": {},
   "outputs": [
    {
     "data": {
      "image/png": "[encoded data removed]",
      "text/plain": [
       "<Figure size 432x288 with 1 Axes>"
      ]
     },
     "metadata": {
      "needs_background": "light"
     },
     "output_type": "display_data"
    }
   ],
   "source": [
    "plt.scatter(country_suicide_joined['order'], country_suicide_joined['entry number'])\n",
    "plt.xlabel('Countries')\n",
    "plt.ylabel('Entry numbers')\n",
    "plt.show()"
   ]
  },
  {
   "cell_type": "code",
   "execution_count": 16,
   "metadata": {},
   "outputs": [
    {
     "data": {
      "image/png": "[encoded data removed]",
      "text/plain": [
       "<Figure size 432x288 with 1 Axes>"
      ]
     },
     "metadata": {
      "needs_background": "light"
     },
     "output_type": "display_data"
    }
   ],
   "source": [
    "plt.scatter(country_suicide_joined['order'], country_suicide_joined['average suicide'])\n",
    "plt.xlabel('Countries')\n",
    "plt.ylabel('Average suidices')\n",
    "plt.show()\n"
   ]
  },
  {
   "cell_type": "markdown",
   "metadata": {},
   "source": [
    "<div style=\"font-size: 20px; color: red\">\n",
    "pick out the countries of highest suicide rate and lowest suicide rate.\n",
    "</div>"
   ]
  },
  {
   "cell_type": "code",
   "execution_count": 17,
   "metadata": {},
   "outputs": [
    {
     "data": {
      "text/html": [
       "<div>\n",
       "<style scoped>\n",
       "    .dataframe tbody tr th:only-of-type {\n",
       "        vertical-align: middle;\n",
       "    }\n",
       "\n",
       "    .dataframe tbody tr th {\n",
       "        vertical-align: top;\n",
       "    }\n",
       "\n",
       "    .dataframe thead th {\n",
       "        text-align: right;\n",
       "    }\n",
       "</style>\n",
       "<table border=\"1\" class=\"dataframe\">\n",
       "  <thead>\n",
       "    <tr style=\"text-align: right;\">\n",
       "      <th></th>\n",
       "      <th>suicides/100k pop</th>\n",
       "      <th>entry number</th>\n",
       "      <th>average suicide</th>\n",
       "      <th>order</th>\n",
       "    </tr>\n",
       "    <tr>\n",
       "      <th>country</th>\n",
       "      <th></th>\n",
       "      <th></th>\n",
       "      <th></th>\n",
       "      <th></th>\n",
       "    </tr>\n",
       "  </thead>\n",
       "  <tbody>\n",
       "    <tr>\n",
       "      <th>Lithuania</th>\n",
       "      <td>7801.39</td>\n",
       "      <td>236.0</td>\n",
       "      <td>33.056737</td>\n",
       "      <td>51</td>\n",
       "    </tr>\n",
       "  </tbody>\n",
       "</table>\n",
       "</div>"
      ],
      "text/plain": [
       "           suicides/100k pop  entry number  average suicide  order\n",
       "country                                                           \n",
       "Lithuania            7801.39         236.0        33.056737     51"
      ]
     },
     "execution_count": 17,
     "metadata": {},
     "output_type": "execute_result"
    }
   ],
   "source": [
    "country_suicide_joined[country_suicide_joined['average suicide'] == max(country_suicide_joined[country_suicide_joined['entry number'] > 200]['average suicide'])]\n"
   ]
  },
  {
   "cell_type": "code",
   "execution_count": 18,
   "metadata": {},
   "outputs": [],
   "source": [
    "x_canada, y_canada = country_suicide_joined.loc['Canada']['order'], country_suicide_joined.loc['Canada']['average suicide']\n",
    "x_sa, y_sa = country_suicide_joined.loc['South Africa']['order'], country_suicide_joined.loc['South Africa']['average suicide']\n",
    "x_sm, y_sm = country_suicide_joined.loc['San Marino']['order'], country_suicide_joined.loc['San Marino']['average suicide']\n",
    "x_lith, y_lith = country_suicide_joined.loc['Lithuania']['order'], country_suicide_joined.loc['Lithuania']['average suicide']\n"
   ]
  },
  {
   "cell_type": "code",
   "execution_count": 19,
   "metadata": {},
   "outputs": [
    {
     "data": {
      "text/plain": [
       "suicides/100k pop    229.910000\n",
       "entry number         209.000000\n",
       "average suicide        1.100048\n",
       "order                 83.000000\n",
       "Name: South Africa, dtype: float64"
      ]
     },
     "execution_count": 19,
     "metadata": {},
     "output_type": "execute_result"
    }
   ],
   "source": [
    "country_suicide_joined.loc['South Africa']"
   ]
  },
  {
   "cell_type": "markdown",
   "metadata": {},
   "source": [
    "<div style=\"font-size: 20px; color: red\">\n",
    "typical countries of sucide study. san marino's suicide rate is higher than lithuania, but consider\n",
    "it's sparse entries in the data set, it's excluded from the study. lithuania is chosen as the \n",
    "nation of highest suicide rate.\n",
    "</div>"
   ]
  },
  {
   "cell_type": "code",
   "execution_count": 20,
   "metadata": {},
   "outputs": [
    {
     "data": {
      "image/png": "[encoded data removed]",
      "text/plain": [
       "<Figure size 432x288 with 1 Axes>"
      ]
     },
     "metadata": {
      "needs_background": "light"
     },
     "output_type": "display_data"
    }
   ],
   "source": [
    "plt.scatter(country_suicide_joined['order'], country_suicide_joined['average suicide'])\n",
    "plt.scatter(x_canada, y_canada)\n",
    "plt.scatter(x_sa, y_sa)\n",
    "plt.scatter(x_sm, y_sm)\n",
    "plt.scatter(x_lith, y_lith)\n",
    "plt.xlabel('Countries')\n",
    "plt.ylabel('Total suicides/100k from 1985 to 2016')\n",
    "\n",
    "plt.annotate('Canada', xy=(x_canada, y_canada), \n",
    "             xytext=(x_canada+8, y_canada+1),\n",
    "             arrowprops=dict(facecolor='red', shrink=0.015,), \n",
    "             )\n",
    "plt.annotate('SA/Lowest', xy=(x_sa, y_sa), xytext=(x_sa+5, y_sa+5),\n",
    "             arrowprops=dict(facecolor='red', shrink=0.015,), \n",
    "             )\n",
    "plt.annotate('Lithuania/Highest', xy=(x_lith, y_lith), xytext=(x_lith+5, y_lith-5),\n",
    "             arrowprops=dict(facecolor='red', shrink=0.015,), \n",
    "             )\n",
    "plt.annotate('San Marino(entry number = 4)', xy=(x_sm, y_sm), xytext=(x_sm+5, y_sm-5),\n",
    "             arrowprops=dict(facecolor='red', shrink=0.015,), \n",
    "             )\n",
    "plt.title('South Africa lowest average suicide rate / Lithuania highest')\n",
    "plt.show()"
   ]
  },
  {
   "cell_type": "code",
   "execution_count": 62,
   "metadata": {},
   "outputs": [],
   "source": [
    "suicide_lith = suicide_cleaned[suicide_cleaned['country'] == 'Lithuania']\n",
    "suicide_canada = suicide_cleaned[suicide_cleaned['country'] == 'Canada']\n",
    "suicide_sa = suicide_cleaned[suicide_cleaned['country'] == 'South Africa']"
   ]
  },
  {
   "cell_type": "code",
   "execution_count": 63,
   "metadata": {},
   "outputs": [],
   "source": [
    "canada_male = suicide_canada[suicide_canada['sex'] == 'male']\n",
    "x_male = canada_male.groupby('year').agg(sum).index.values.reshape(-1,1)\n",
    "y_male = canada_male.groupby('year').agg(sum)['suicides/100k pop']"
   ]
  },
  {
   "cell_type": "code",
   "execution_count": 64,
   "metadata": {},
   "outputs": [],
   "source": [
    "regr = linear_model.LinearRegression()\n",
    "regr.fit(x_male, y_male)\n",
    "y_male_pred = regr.predict(x_male)"
   ]
  },
  {
   "cell_type": "markdown",
   "metadata": {},
   "source": [
    "<div style=\"font-size: 20px; color: red\">\n",
    "suicide rate among males and females in canada. sometimes data visualization is cheating.\n",
    "the blue line is a linear fit of variance of male suicide rate with years. it looks like there is\n",
    "a good linear decrease in male suicide rate. the female suicide rate doesn't decrease with years,\n",
    "but it looks almost constant. These are actually not true, as can be seen in the next plot. \n",
    "this is the result of scaling aberration. \n",
    "<div style=\"font-size: 30px; color: green\">\n",
    "can't trust plots without condition, sense of logic needs to be held all the time. \n",
    "</div>\n",
    "actually this accidental linear relation doesn't present in the data of other nations\n",
    "</div>"
   ]
  },
  {
   "cell_type": "code",
   "execution_count": 73,
   "metadata": {},
   "outputs": [
    {
     "data": {
      "image/png": "[encoded data removed]",
      "text/plain": [
       "<Figure size 432x288 with 1 Axes>"
      ]
     },
     "metadata": {
      "needs_background": "light"
     },
     "output_type": "display_data"
    }
   ],
   "source": [
    "canada_female = suicide_canada[suicide_canada['sex'] == 'female']\n",
    "x_female = canada_female.groupby('year').agg(sum).index\n",
    "y_female = canada_female.groupby('year').agg(sum)['suicides/100k pop']\n",
    "plt.scatter(x_male, y_male)\n",
    "plt.plot(x_male, y_male_pred, color='blue', linewidth=3)\n",
    "plt.scatter(x_female, y_female, color=\"orange\")\n",
    "plt.xlabel('Year')\n",
    "plt.ylabel('suicides/100K')\n",
    "plt.title('Canada suicides(blue - male, orange - female)')\n",
    "plt.show()\n"
   ]
  },
  {
   "cell_type": "code",
   "execution_count": 84,
   "metadata": {},
   "outputs": [
    {
     "data": {
      "image/png": "[encoded data removed]",
      "text/plain": [
       "<Figure size 432x288 with 1 Axes>"
      ]
     },
     "metadata": {
      "needs_background": "light"
     },
     "output_type": "display_data"
    }
   ],
   "source": [
    "canada_female = suicide_canada[suicide_canada['sex'] == 'female']\n",
    "x_female = canada_female.groupby('year').agg(sum).index\n",
    "y_female = canada_female.groupby('year').agg(sum)['suicides/100k pop']\n",
    "#plt.scatter(x_male, y_male)\n",
    "#plt.plot(x_male, y_male_pred, color='blue', linewidth=3)\n",
    "plt.scatter(x_female, y_female, color=\"orange\")\n",
    "plt.xlabel('Year')\n",
    "plt.ylabel('suicides/100K')\n",
    "plt.title('Canada female suicides')\n",
    "plt.show()\n"
   ]
  },
  {
   "cell_type": "code",
   "execution_count": 25,
   "metadata": {},
   "outputs": [
    {
     "data": {
      "image/png": "[encoded data removed]",
      "text/plain": [
       "<Figure size 432x288 with 1 Axes>"
      ]
     },
     "metadata": {
      "needs_background": "light"
     },
     "output_type": "display_data"
    }
   ],
   "source": [
    "lith_male = suicide_lith[suicide_lith['sex'] == 'male']\n",
    "x_male = lith_male.groupby('year').agg(sum).index.values.reshape(-1,1)\n",
    "y_male = lith_male.groupby('year').agg(sum)['suicides/100k pop']\n",
    "lith_female = suicide_lith[suicide_lith['sex'] == 'female']\n",
    "x_female = lith_female.groupby('year').agg(sum).index.values.reshape(-1,1)\n",
    "y_female = lith_female.groupby('year').agg(sum)['suicides/100k pop']\n",
    "plt.scatter(x_male, y_male)\n",
    "plt.scatter(x_female, y_female)\n",
    "plt.xlabel('Year')\n",
    "plt.ylabel('suicides/100K')\n",
    "plt.title('Lithuanina suicides(blue - male, orange - female)')\n",
    "plt.show()"
   ]
  },
  {
   "cell_type": "code",
   "execution_count": 26,
   "metadata": {},
   "outputs": [
    {
     "data": {
      "image/png": "[encoded data removed]",
      "text/plain": [
       "<Figure size 432x288 with 1 Axes>"
      ]
     },
     "metadata": {
      "needs_background": "light"
     },
     "output_type": "display_data"
    }
   ],
   "source": [
    "sa_male = suicide_sa[suicide_sa['sex'] == 'male']\n",
    "x_male = sa_male.groupby('year').agg(sum).index.values.reshape(-1,1)\n",
    "y_male = sa_male.groupby('year').agg(sum)['suicides/100k pop']\n",
    "sa_female = suicide_sa[suicide_sa['sex'] == 'female']\n",
    "x_female = sa_female.groupby('year').agg(sum).index.values.reshape(-1,1)\n",
    "y_female = sa_female.groupby('year').agg(sum)['suicides/100k pop']\n",
    "plt.scatter(x_male, y_male)\n",
    "plt.scatter(x_female, y_female)\n",
    "plt.xlabel('Year')\n",
    "plt.ylabel('suicides/100K')\n",
    "plt.title('South Africa suicides(blue - male, orange - female)')\n",
    "plt.show()"
   ]
  },
  {
   "cell_type": "markdown",
   "metadata": {},
   "source": [
    "<div style=\"font-size: 20px; color: red\">\n",
    "comparison of female suicide rates of the three countries. years of available data of canada are \n",
    "more than lithuania and south africa. we can see the comparision is drastic. lithuania female \n",
    "    suicide rate is almost 50 times higher than south africa. good news is lithuania female \n",
    "    suicide rate has a clearly decresing trend.\n",
    "</div>"
   ]
  },
  {
   "cell_type": "code",
   "execution_count": 89,
   "metadata": {},
   "outputs": [
    {
     "data": {
      "image/png": "[encoded data removed]",
      "text/plain": [
       "<Figure size 432x288 with 1 Axes>"
      ]
     },
     "metadata": {
      "needs_background": "light"
     },
     "output_type": "display_data"
    }
   ],
   "source": [
    "canada_female = suicide_canada[suicide_canada['sex'] == 'female']\n",
    "x_female = canada_female.groupby('year').agg(sum).index\n",
    "y_female = canada_female.groupby('year').agg(sum)['suicides/100k pop']\n",
    "plt.scatter(x_female, y_female, color=\"red\")\n",
    "\n",
    "lith_female = suicide_lith[suicide_lith['sex'] == 'female']\n",
    "x_female = lith_female.groupby('year').agg(sum).index.values.reshape(-1,1)\n",
    "y_female = lith_female.groupby('year').agg(sum)['suicides/100k pop']\n",
    "plt.scatter(x_female, y_female, color=\"orange\")\n",
    "\n",
    "sa_female = suicide_sa[suicide_sa['sex'] == 'female']\n",
    "x_female = sa_female.groupby('year').agg(sum).index.values.reshape(-1,1)\n",
    "y_female = sa_female.groupby('year').agg(sum)['suicides/100k pop']\n",
    "plt.scatter(x_female, y_female, color=\"green\")\n",
    "\n",
    "plt.xlabel('Year')\n",
    "plt.ylabel('suicides/100K')\n",
    "plt.title('South Africa suicides(red - Canada, orange - Lithuania, green - South Africa)')\n",
    "plt.show()"
   ]
  },
  {
   "cell_type": "markdown",
   "metadata": {},
   "source": [
    "<div style=\"font-size: 20px; color: red\">\n",
    "encode and get_dummies to convert categorical variables to quantitative variables. suicide \n",
    "is a complicated social behaviour. linear regression is used to build a quantitative model. \n",
    "hopefully it's enough to help find better policy measures to reduce suidice rates by governments.\n",
    "</div>"
   ]
  },
  {
   "cell_type": "code",
   "execution_count": 27,
   "metadata": {},
   "outputs": [],
   "source": [
    "suicide_dummies = pd.get_dummies(suicide_cleaned, columns=['age', 'sex', 'generation'])"
   ]
  },
  {
   "cell_type": "code",
   "execution_count": 91,
   "metadata": {},
   "outputs": [],
   "source": [
    "from collections import defaultdict\n",
    "dd = defaultdict(LabelEncoder)\n",
    "encoded_suicide = suicide_cleaned[['country', 'year']].apply(lambda x: dd[x.name].fit_transform(x))\n",
    "suicide_dummies[['country', 'year']] = encoded_suicide[['country', 'year']]\n"
   ]
  },
  {
   "cell_type": "code",
   "execution_count": 121,
   "metadata": {},
   "outputs": [
    {
     "data": {
      "text/html": [
       "<div>\n",
       "<style scoped>\n",
       "    .dataframe tbody tr th:only-of-type {\n",
       "        vertical-align: middle;\n",
       "    }\n",
       "\n",
       "    .dataframe tbody tr th {\n",
       "        vertical-align: top;\n",
       "    }\n",
       "\n",
       "    .dataframe thead th {\n",
       "        text-align: right;\n",
       "    }\n",
       "</style>\n",
       "<table border=\"1\" class=\"dataframe\">\n",
       "  <thead>\n",
       "    <tr style=\"text-align: right;\">\n",
       "      <th></th>\n",
       "      <th>country</th>\n",
       "      <th>year</th>\n",
       "      <th>population</th>\n",
       "      <th>suicides/100k pop</th>\n",
       "      <th>gdp_per_capita ($)</th>\n",
       "      <th>age_15-24 years</th>\n",
       "      <th>age_25-34 years</th>\n",
       "      <th>age_35-54 years</th>\n",
       "      <th>age_5-14 years</th>\n",
       "      <th>age_55-74 years</th>\n",
       "      <th>age_75+ years</th>\n",
       "      <th>sex_female</th>\n",
       "      <th>sex_male</th>\n",
       "      <th>generation_Boomers</th>\n",
       "      <th>generation_G.I. Generation</th>\n",
       "      <th>generation_Generation X</th>\n",
       "      <th>generation_Generation Z</th>\n",
       "      <th>generation_Millenials</th>\n",
       "      <th>generation_Silent</th>\n",
       "    </tr>\n",
       "  </thead>\n",
       "  <tbody>\n",
       "    <tr>\n",
       "      <th>27815</th>\n",
       "      <td>98</td>\n",
       "      <td>29</td>\n",
       "      <td>3620833</td>\n",
       "      <td>2.96</td>\n",
       "      <td>2309</td>\n",
       "      <td>0</td>\n",
       "      <td>0</td>\n",
       "      <td>1</td>\n",
       "      <td>0</td>\n",
       "      <td>0</td>\n",
       "      <td>0</td>\n",
       "      <td>1</td>\n",
       "      <td>0</td>\n",
       "      <td>0</td>\n",
       "      <td>0</td>\n",
       "      <td>1</td>\n",
       "      <td>0</td>\n",
       "      <td>0</td>\n",
       "      <td>0</td>\n",
       "    </tr>\n",
       "    <tr>\n",
       "      <th>27816</th>\n",
       "      <td>98</td>\n",
       "      <td>29</td>\n",
       "      <td>348465</td>\n",
       "      <td>2.58</td>\n",
       "      <td>2309</td>\n",
       "      <td>0</td>\n",
       "      <td>0</td>\n",
       "      <td>0</td>\n",
       "      <td>0</td>\n",
       "      <td>0</td>\n",
       "      <td>1</td>\n",
       "      <td>1</td>\n",
       "      <td>0</td>\n",
       "      <td>0</td>\n",
       "      <td>0</td>\n",
       "      <td>0</td>\n",
       "      <td>0</td>\n",
       "      <td>0</td>\n",
       "      <td>1</td>\n",
       "    </tr>\n",
       "    <tr>\n",
       "      <th>27817</th>\n",
       "      <td>98</td>\n",
       "      <td>29</td>\n",
       "      <td>2762158</td>\n",
       "      <td>2.17</td>\n",
       "      <td>2309</td>\n",
       "      <td>0</td>\n",
       "      <td>0</td>\n",
       "      <td>0</td>\n",
       "      <td>1</td>\n",
       "      <td>0</td>\n",
       "      <td>0</td>\n",
       "      <td>0</td>\n",
       "      <td>1</td>\n",
       "      <td>0</td>\n",
       "      <td>0</td>\n",
       "      <td>0</td>\n",
       "      <td>1</td>\n",
       "      <td>0</td>\n",
       "      <td>0</td>\n",
       "    </tr>\n",
       "    <tr>\n",
       "      <th>27818</th>\n",
       "      <td>98</td>\n",
       "      <td>29</td>\n",
       "      <td>2631600</td>\n",
       "      <td>1.67</td>\n",
       "      <td>2309</td>\n",
       "      <td>0</td>\n",
       "      <td>0</td>\n",
       "      <td>0</td>\n",
       "      <td>1</td>\n",
       "      <td>0</td>\n",
       "      <td>0</td>\n",
       "      <td>1</td>\n",
       "      <td>0</td>\n",
       "      <td>0</td>\n",
       "      <td>0</td>\n",
       "      <td>0</td>\n",
       "      <td>1</td>\n",
       "      <td>0</td>\n",
       "      <td>0</td>\n",
       "    </tr>\n",
       "    <tr>\n",
       "      <th>27819</th>\n",
       "      <td>98</td>\n",
       "      <td>29</td>\n",
       "      <td>1438935</td>\n",
       "      <td>1.46</td>\n",
       "      <td>2309</td>\n",
       "      <td>0</td>\n",
       "      <td>0</td>\n",
       "      <td>0</td>\n",
       "      <td>0</td>\n",
       "      <td>1</td>\n",
       "      <td>0</td>\n",
       "      <td>1</td>\n",
       "      <td>0</td>\n",
       "      <td>1</td>\n",
       "      <td>0</td>\n",
       "      <td>0</td>\n",
       "      <td>0</td>\n",
       "      <td>0</td>\n",
       "      <td>0</td>\n",
       "    </tr>\n",
       "  </tbody>\n",
       "</table>\n",
       "</div>"
      ],
      "text/plain": [
       "       country  year  population  suicides/100k pop  gdp_per_capita ($)  \\\n",
       "27815       98    29     3620833               2.96                2309   \n",
       "27816       98    29      348465               2.58                2309   \n",
       "27817       98    29     2762158               2.17                2309   \n",
       "27818       98    29     2631600               1.67                2309   \n",
       "27819       98    29     1438935               1.46                2309   \n",
       "\n",
       "       age_15-24 years  age_25-34 years  age_35-54 years  age_5-14 years  \\\n",
       "27815                0                0                1               0   \n",
       "27816                0                0                0               0   \n",
       "27817                0                0                0               1   \n",
       "27818                0                0                0               1   \n",
       "27819                0                0                0               0   \n",
       "\n",
       "       age_55-74 years  age_75+ years  sex_female  sex_male  \\\n",
       "27815                0              0           1         0   \n",
       "27816                0              1           1         0   \n",
       "27817                0              0           0         1   \n",
       "27818                0              0           1         0   \n",
       "27819                1              0           1         0   \n",
       "\n",
       "       generation_Boomers  generation_G.I. Generation  \\\n",
       "27815                   0                           0   \n",
       "27816                   0                           0   \n",
       "27817                   0                           0   \n",
       "27818                   0                           0   \n",
       "27819                   1                           0   \n",
       "\n",
       "       generation_Generation X  generation_Generation Z  \\\n",
       "27815                        1                        0   \n",
       "27816                        0                        0   \n",
       "27817                        0                        1   \n",
       "27818                        0                        1   \n",
       "27819                        0                        0   \n",
       "\n",
       "       generation_Millenials  generation_Silent  \n",
       "27815                      0                  0  \n",
       "27816                      0                  1  \n",
       "27817                      0                  0  \n",
       "27818                      0                  0  \n",
       "27819                      0                  0  "
      ]
     },
     "execution_count": 121,
     "metadata": {},
     "output_type": "execute_result"
    }
   ],
   "source": [
    "suicide_dummies.tail()"
   ]
  },
  {
   "cell_type": "code",
   "execution_count": 93,
   "metadata": {},
   "outputs": [],
   "source": [
    "factors = ['country',\n",
    " 'year',\n",
    " 'population',\n",
    " 'gdp_per_capita ($)',\n",
    " 'age_15-24 years',\n",
    " 'age_25-34 years',\n",
    " 'age_35-54 years',\n",
    " 'age_5-14 years',\n",
    " 'age_55-74 years',\n",
    " 'age_75+ years',\n",
    " 'sex_female',\n",
    " 'sex_male',\n",
    " 'generation_Boomers',\n",
    " 'generation_G.I. Generation',\n",
    " 'generation_Generation X',\n",
    " 'generation_Generation Z',\n",
    " 'generation_Millenials',\n",
    " 'generation_Silent']"
   ]
  },
  {
   "cell_type": "code",
   "execution_count": 94,
   "metadata": {},
   "outputs": [
    {
     "data": {
      "text/plain": [
       "LinearRegression(copy_X=True, fit_intercept=True, n_jobs=None,\n",
       "         normalize=False)"
      ]
     },
     "execution_count": 94,
     "metadata": {},
     "output_type": "execute_result"
    }
   ],
   "source": [
    "regr = linear_model.LinearRegression()\n",
    "X = suicide_dummies[factors]\n",
    "y = suicide_dummies['suicides/100k pop']\n",
    "X_train, X_test, y_train, y_test = model_selection.train_test_split(X, y, test_size=0.4, random_state=0)\n",
    "regr.fit(X_train, y_train)\n"
   ]
  },
  {
   "cell_type": "code",
   "execution_count": 95,
   "metadata": {},
   "outputs": [
    {
     "data": {
      "text/plain": [
       "0.3659806365465268"
      ]
     },
     "execution_count": 95,
     "metadata": {},
     "output_type": "execute_result"
    }
   ],
   "source": [
    "regr.score(X_train, y_train)"
   ]
  },
  {
   "cell_type": "code",
   "execution_count": 33,
   "metadata": {},
   "outputs": [
    {
     "data": {
      "text/plain": [
       "0.358865710340907"
      ]
     },
     "execution_count": 33,
     "metadata": {},
     "output_type": "execute_result"
    }
   ],
   "source": [
    "regr.score(X_test, y_test)"
   ]
  },
  {
   "cell_type": "code",
   "execution_count": 120,
   "metadata": {},
   "outputs": [
    {
     "data": {
      "text/html": [
       "<div>\n",
       "<style scoped>\n",
       "    .dataframe tbody tr th:only-of-type {\n",
       "        vertical-align: middle;\n",
       "    }\n",
       "\n",
       "    .dataframe tbody tr th {\n",
       "        vertical-align: top;\n",
       "    }\n",
       "\n",
       "    .dataframe thead th {\n",
       "        text-align: right;\n",
       "    }\n",
       "</style>\n",
       "<table border=\"1\" class=\"dataframe\">\n",
       "  <thead>\n",
       "    <tr style=\"text-align: right;\">\n",
       "      <th></th>\n",
       "      <th>0</th>\n",
       "      <th>1</th>\n",
       "    </tr>\n",
       "  </thead>\n",
       "  <tbody>\n",
       "    <tr>\n",
       "      <th>7</th>\n",
       "      <td>age_5-14 years</td>\n",
       "      <td>-1.415947e+01</td>\n",
       "    </tr>\n",
       "    <tr>\n",
       "      <th>9</th>\n",
       "      <td>age_75+ years</td>\n",
       "      <td>1.271761e+01</td>\n",
       "    </tr>\n",
       "    <tr>\n",
       "      <th>11</th>\n",
       "      <td>sex_male</td>\n",
       "      <td>7.423344e+00</td>\n",
       "    </tr>\n",
       "    <tr>\n",
       "      <th>10</th>\n",
       "      <td>sex_female</td>\n",
       "      <td>-7.423344e+00</td>\n",
       "    </tr>\n",
       "    <tr>\n",
       "      <th>8</th>\n",
       "      <td>age_55-74 years</td>\n",
       "      <td>4.727595e+00</td>\n",
       "    </tr>\n",
       "    <tr>\n",
       "      <th>4</th>\n",
       "      <td>age_15-24 years</td>\n",
       "      <td>-4.428621e+00</td>\n",
       "    </tr>\n",
       "    <tr>\n",
       "      <th>6</th>\n",
       "      <td>age_35-54 years</td>\n",
       "      <td>2.136045e+00</td>\n",
       "    </tr>\n",
       "    <tr>\n",
       "      <th>15</th>\n",
       "      <td>generation_Generation Z</td>\n",
       "      <td>1.433712e+00</td>\n",
       "    </tr>\n",
       "    <tr>\n",
       "      <th>17</th>\n",
       "      <td>generation_Silent</td>\n",
       "      <td>-1.182780e+00</td>\n",
       "    </tr>\n",
       "    <tr>\n",
       "      <th>5</th>\n",
       "      <td>age_25-34 years</td>\n",
       "      <td>-9.931571e-01</td>\n",
       "    </tr>\n",
       "    <tr>\n",
       "      <th>12</th>\n",
       "      <td>generation_Boomers</td>\n",
       "      <td>-5.910942e-01</td>\n",
       "    </tr>\n",
       "    <tr>\n",
       "      <th>16</th>\n",
       "      <td>generation_Millenials</td>\n",
       "      <td>3.413147e-01</td>\n",
       "    </tr>\n",
       "    <tr>\n",
       "      <th>13</th>\n",
       "      <td>generation_G.I. Generation</td>\n",
       "      <td>-2.264477e-01</td>\n",
       "    </tr>\n",
       "    <tr>\n",
       "      <th>14</th>\n",
       "      <td>generation_Generation X</td>\n",
       "      <td>2.252958e-01</td>\n",
       "    </tr>\n",
       "    <tr>\n",
       "      <th>1</th>\n",
       "      <td>year</td>\n",
       "      <td>-1.144590e-01</td>\n",
       "    </tr>\n",
       "    <tr>\n",
       "      <th>0</th>\n",
       "      <td>country</td>\n",
       "      <td>2.188662e-02</td>\n",
       "    </tr>\n",
       "    <tr>\n",
       "      <th>3</th>\n",
       "      <td>gdp_per_capita ($)</td>\n",
       "      <td>8.954595e-06</td>\n",
       "    </tr>\n",
       "    <tr>\n",
       "      <th>2</th>\n",
       "      <td>population</td>\n",
       "      <td>3.007499e-08</td>\n",
       "    </tr>\n",
       "  </tbody>\n",
       "</table>\n",
       "</div>"
      ],
      "text/plain": [
       "                             0             1\n",
       "7               age_5-14 years -1.415947e+01\n",
       "9                age_75+ years  1.271761e+01\n",
       "11                    sex_male  7.423344e+00\n",
       "10                  sex_female -7.423344e+00\n",
       "8              age_55-74 years  4.727595e+00\n",
       "4              age_15-24 years -4.428621e+00\n",
       "6              age_35-54 years  2.136045e+00\n",
       "15     generation_Generation Z  1.433712e+00\n",
       "17           generation_Silent -1.182780e+00\n",
       "5              age_25-34 years -9.931571e-01\n",
       "12          generation_Boomers -5.910942e-01\n",
       "16       generation_Millenials  3.413147e-01\n",
       "13  generation_G.I. Generation -2.264477e-01\n",
       "14     generation_Generation X  2.252958e-01\n",
       "1                         year -1.144590e-01\n",
       "0                      country  2.188662e-02\n",
       "3           gdp_per_capita ($)  8.954595e-06\n",
       "2                   population  3.007499e-08"
      ]
     },
     "execution_count": 120,
     "metadata": {},
     "output_type": "execute_result"
    }
   ],
   "source": [
    "#pd.DataFrame(list(zip(factors, np.transpose(regr.coef_)))).sort_values(by=1)\n",
    "para_significance = pd.DataFrame(list(zip(factors, np.transpose(regr.coef_))))\n",
    "para_significance.iloc[(-para_significance[1].abs()).argsort()]"
   ]
  },
  {
   "cell_type": "markdown",
   "metadata": {},
   "source": [
    "<div style=\"font-size: 20px; color: red\">\n",
    "linear regression fit result, parameters ordered by the absolute value from large to small.</br></br>\n",
    "the parameters can't be taken simply by their facevalues, since the quantitative variables in\n",
    "the data are of different scales. for example, the small coefficients of gdp_per_capita and population are further supressed by their large quantitative values in the data set, but even considered that, they are still insignificant factors. </br>\n",
    "that's not true for \"country\", although it's coefficient is small, we have seen from the above\n",
    "comparison that country is a significant factor. there are around 100 countries in the data set,\n",
    "its big value suppresses its coefficient. </br></br>\n",
    "a better fit would be bring all the quantified variables to similar orders of magnitude. that \n",
    "will give better evaluation of their significance from their fit coefficients.</br></br>\n",
    "it can be read from the fit result that age and gender play significant roles in suicide rate. \n",
    "very older age groups are inclined to suicide and younger groups are not. males are inclined and \n",
    "females are not. Another conclusion is surprising, richness of the population (gdp_per_capita) \n",
    "doesn't play a significant role. \n",
    "</div>"
   ]
  },
  {
   "cell_type": "code",
   "execution_count": 124,
   "metadata": {},
   "outputs": [],
   "source": [
    "y_predict = regr.predict(X)\n",
    "suicide_com = suicide_cleaned.join(pd.DataFrame(y_predict))\n",
    "suicide_com.columns = [           'country',               'year',                'sex',\n",
    "                      'age',         'population',  'suicides/100k pop',\n",
    "       'gdp_per_capita ($)',         'generation',                    'suicides predicted']"
   ]
  },
  {
   "cell_type": "code",
   "execution_count": 125,
   "metadata": {},
   "outputs": [],
   "source": [
    "suicide_com = suicide_com[['country', 'year', 'sex','age', 'population','gdp_per_capita ($)',\n",
    "                           'generation', 'suicides/100k pop','suicides predicted']]"
   ]
  },
  {
   "cell_type": "code",
   "execution_count": 127,
   "metadata": {},
   "outputs": [
    {
     "data": {
      "text/html": [
       "<div>\n",
       "<style scoped>\n",
       "    .dataframe tbody tr th:only-of-type {\n",
       "        vertical-align: middle;\n",
       "    }\n",
       "\n",
       "    .dataframe tbody tr th {\n",
       "        vertical-align: top;\n",
       "    }\n",
       "\n",
       "    .dataframe thead th {\n",
       "        text-align: right;\n",
       "    }\n",
       "</style>\n",
       "<table border=\"1\" class=\"dataframe\">\n",
       "  <thead>\n",
       "    <tr style=\"text-align: right;\">\n",
       "      <th></th>\n",
       "      <th>country</th>\n",
       "      <th>year</th>\n",
       "      <th>sex</th>\n",
       "      <th>age</th>\n",
       "      <th>population</th>\n",
       "      <th>gdp_per_capita ($)</th>\n",
       "      <th>generation</th>\n",
       "      <th>suicides/100k pop</th>\n",
       "      <th>suicides predicted</th>\n",
       "    </tr>\n",
       "  </thead>\n",
       "  <tbody>\n",
       "    <tr>\n",
       "      <th>0</th>\n",
       "      <td>Albania</td>\n",
       "      <td>1987</td>\n",
       "      <td>male</td>\n",
       "      <td>15-24 years</td>\n",
       "      <td>312900</td>\n",
       "      <td>796</td>\n",
       "      <td>Generation X</td>\n",
       "      <td>6.71</td>\n",
       "      <td>17.480500</td>\n",
       "    </tr>\n",
       "    <tr>\n",
       "      <th>1</th>\n",
       "      <td>Albania</td>\n",
       "      <td>1987</td>\n",
       "      <td>male</td>\n",
       "      <td>35-54 years</td>\n",
       "      <td>308000</td>\n",
       "      <td>796</td>\n",
       "      <td>Silent</td>\n",
       "      <td>5.19</td>\n",
       "      <td>22.636942</td>\n",
       "    </tr>\n",
       "    <tr>\n",
       "      <th>2</th>\n",
       "      <td>Albania</td>\n",
       "      <td>1987</td>\n",
       "      <td>female</td>\n",
       "      <td>15-24 years</td>\n",
       "      <td>289700</td>\n",
       "      <td>796</td>\n",
       "      <td>Generation X</td>\n",
       "      <td>4.83</td>\n",
       "      <td>2.633114</td>\n",
       "    </tr>\n",
       "    <tr>\n",
       "      <th>3</th>\n",
       "      <td>Albania</td>\n",
       "      <td>1987</td>\n",
       "      <td>male</td>\n",
       "      <td>75+ years</td>\n",
       "      <td>21800</td>\n",
       "      <td>796</td>\n",
       "      <td>G.I. Generation</td>\n",
       "      <td>4.59</td>\n",
       "      <td>34.166232</td>\n",
       "    </tr>\n",
       "    <tr>\n",
       "      <th>4</th>\n",
       "      <td>Albania</td>\n",
       "      <td>1987</td>\n",
       "      <td>male</td>\n",
       "      <td>25-34 years</td>\n",
       "      <td>274300</td>\n",
       "      <td>796</td>\n",
       "      <td>Boomers</td>\n",
       "      <td>3.28</td>\n",
       "      <td>20.098413</td>\n",
       "    </tr>\n",
       "    <tr>\n",
       "      <th>5</th>\n",
       "      <td>Albania</td>\n",
       "      <td>1987</td>\n",
       "      <td>female</td>\n",
       "      <td>75+ years</td>\n",
       "      <td>35600</td>\n",
       "      <td>796</td>\n",
       "      <td>G.I. Generation</td>\n",
       "      <td>2.81</td>\n",
       "      <td>19.319959</td>\n",
       "    </tr>\n",
       "    <tr>\n",
       "      <th>6</th>\n",
       "      <td>Albania</td>\n",
       "      <td>1987</td>\n",
       "      <td>female</td>\n",
       "      <td>35-54 years</td>\n",
       "      <td>278800</td>\n",
       "      <td>796</td>\n",
       "      <td>Silent</td>\n",
       "      <td>2.15</td>\n",
       "      <td>7.789376</td>\n",
       "    </tr>\n",
       "    <tr>\n",
       "      <th>7</th>\n",
       "      <td>Albania</td>\n",
       "      <td>1987</td>\n",
       "      <td>female</td>\n",
       "      <td>25-34 years</td>\n",
       "      <td>257200</td>\n",
       "      <td>796</td>\n",
       "      <td>Boomers</td>\n",
       "      <td>1.56</td>\n",
       "      <td>5.251211</td>\n",
       "    </tr>\n",
       "    <tr>\n",
       "      <th>8</th>\n",
       "      <td>Albania</td>\n",
       "      <td>1987</td>\n",
       "      <td>male</td>\n",
       "      <td>55-74 years</td>\n",
       "      <td>137500</td>\n",
       "      <td>796</td>\n",
       "      <td>G.I. Generation</td>\n",
       "      <td>0.73</td>\n",
       "      <td>26.179698</td>\n",
       "    </tr>\n",
       "    <tr>\n",
       "      <th>12</th>\n",
       "      <td>Albania</td>\n",
       "      <td>1988</td>\n",
       "      <td>female</td>\n",
       "      <td>75+ years</td>\n",
       "      <td>36400</td>\n",
       "      <td>769</td>\n",
       "      <td>G.I. Generation</td>\n",
       "      <td>5.49</td>\n",
       "      <td>22.522425</td>\n",
       "    </tr>\n",
       "  </tbody>\n",
       "</table>\n",
       "</div>"
      ],
      "text/plain": [
       "    country  year     sex          age  population  gdp_per_capita ($)  \\\n",
       "0   Albania  1987    male  15-24 years      312900                 796   \n",
       "1   Albania  1987    male  35-54 years      308000                 796   \n",
       "2   Albania  1987  female  15-24 years      289700                 796   \n",
       "3   Albania  1987    male    75+ years       21800                 796   \n",
       "4   Albania  1987    male  25-34 years      274300                 796   \n",
       "5   Albania  1987  female    75+ years       35600                 796   \n",
       "6   Albania  1987  female  35-54 years      278800                 796   \n",
       "7   Albania  1987  female  25-34 years      257200                 796   \n",
       "8   Albania  1987    male  55-74 years      137500                 796   \n",
       "12  Albania  1988  female    75+ years       36400                 769   \n",
       "\n",
       "         generation  suicides/100k pop  suicides predicted  \n",
       "0      Generation X               6.71           17.480500  \n",
       "1            Silent               5.19           22.636942  \n",
       "2      Generation X               4.83            2.633114  \n",
       "3   G.I. Generation               4.59           34.166232  \n",
       "4           Boomers               3.28           20.098413  \n",
       "5   G.I. Generation               2.81           19.319959  \n",
       "6            Silent               2.15            7.789376  \n",
       "7           Boomers               1.56            5.251211  \n",
       "8   G.I. Generation               0.73           26.179698  \n",
       "12  G.I. Generation               5.49           22.522425  "
      ]
     },
     "execution_count": 127,
     "metadata": {},
     "output_type": "execute_result"
    }
   ],
   "source": [
    "suicide_com.head(10)"
   ]
  },
  {
   "cell_type": "markdown",
   "metadata": {},
   "source": [
    "<div style=\"font-size: 20px; color: red\">\n",
    "the last two columns show the suicide rate in the data set and the predicted suicide rate from \n",
    "    the model. they don't fit well, actually some predicted values are even negative. </br></br>\n",
    "    obviously, the simple linear model is not precise at all. most of time, a naive model doesn't \n",
    "    produce good results. expertise knowlege and trial and error help build better working models.\n",
    "    </br></br>\n",
    "    in this case of suicide study, country, gender, age groups are the most significant factors. \n",
    "    a realistic model may need to categorize these variables and build distinguished models in\n",
    "    each category. \n",
    "</div>"
   ]
  },
  {
   "cell_type": "code",
   "execution_count": 128,
   "metadata": {},
   "outputs": [],
   "source": [
    "#suicide_com[suicide_cleaned['country'] == 'Canada'].loc[4921: 4925]"
   ]
  },
  {
   "cell_type": "code",
   "execution_count": 43,
   "metadata": {},
   "outputs": [],
   "source": [
    "\n",
    "#suicide_com[suicide_cleaned['country'] == 'United States'].head()"
   ]
  },
  {
   "cell_type": "code",
   "execution_count": null,
   "metadata": {},
   "outputs": [],
   "source": []
  }
 ],
 "metadata": {
  "kernelspec": {
   "display_name": "Python 3",
   "language": "python",
   "name": "python3"
  },
  "language_info": {
   "codemirror_mode": {
    "name": "ipython",
    "version": 3
   },
   "file_extension": ".py",
   "mimetype": "text/x-python",
   "name": "python",
   "nbconvert_exporter": "python",
   "pygments_lexer": "ipython3",
   "version": "3.7.3"
  }
 },
 "nbformat": 4,
 "nbformat_minor": 2
}
